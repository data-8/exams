{
 "cells": [
  {
   "cell_type": "code",
   "execution_count": 1,
   "metadata": {},
   "outputs": [],
   "source": [
    "from datascience import *\n",
    "import numpy as np\n",
    "import matplotlib\n",
    "%matplotlib inline\n",
    "import matplotlib.pyplot as plots\n",
    "plots.style.use('fivethirtyeight')"
   ]
  },
  {
   "cell_type": "markdown",
   "metadata": {},
   "source": [
    "# Introduction"
   ]
  },
  {
   "cell_type": "markdown",
   "metadata": {},
   "source": [
    "* Collaboration policy (same as HW, can discuss w/others, can use resources, but code and explanations must be your own)\n",
    "* timeline\n",
    "* points and scoring\n",
    "  * Just for fun questions are optional, don't answer them in the notebook, won't be graded\n",
    "* Link to clarifications doc: look for Piazza blasts\n",
    "  * It is your responsibility to check these\n",
    "* "
   ]
  },
  {
   "cell_type": "markdown",
   "metadata": {},
   "source": [
    "# Useful functions"
   ]
  },
  {
   "cell_type": "markdown",
   "metadata": {},
   "source": [
    "These are useful functions from lecture and the textbook. They've all been defined correctly. You may use any of them for any question in the exam, \n",
    "\n",
    "**Warning**: make sure you don't create any variables or functions that have the same names as any of these, or you may not receive credit on parts of the exam."
   ]
  },
  {
   "cell_type": "markdown",
   "metadata": {},
   "source": [
    "### Linear regression"
   ]
  },
  {
   "cell_type": "markdown",
   "metadata": {},
   "source": [
    "These functions are described in lectures 30-34 (Least Squares through Regression Wrapup), and also in Chapter 15 of the textbook."
   ]
  },
  {
   "cell_type": "code",
   "execution_count": null,
   "metadata": {},
   "outputs": [],
   "source": [
    "def standard_units(arr):\n",
    "    return (arr - np.average(arr))/np.std(arr)\n",
    "\n",
    "def correlation(t, x, y):\n",
    "    x_standard = standard_units(t.column(x))\n",
    "    y_standard = standard_units(t.column(y))\n",
    "    return np.average(x_standard * y_standard)\n",
    "\n",
    "def slope(t, x, y):\n",
    "    r = correlation(t, x, y)\n",
    "    y_sd = np.std(t.column(y))\n",
    "    x_sd = np.std(t.column(x))\n",
    "    return r * y_sd / x_sd\n",
    "\n",
    "def intercept(t, x, y):\n",
    "    x_mean = np.mean(t.column(x))\n",
    "    y_mean = np.mean(t.column(y))\n",
    "    return y_mean - slope(t, x, y)*x_mean\n",
    "\n",
    "def fitted_values(t, x, y):\n",
    "    a = slope(t, x, y)\n",
    "    b = intercept(t, x, y)\n",
    "    return a*t.column(x) + b\n",
    "\n",
    "def fitted_value(t, x, y, new_x):\n",
    "    a = slope(t, x, y)\n",
    "    b = intercept(t, x, y)\n",
    "    return a*new_x + b\n",
    "\n",
    "def residuals(t, x, y):\n",
    "    predictions = fitted_values(t, x, y)\n",
    "    return t.column(y) - predictions"
   ]
  },
  {
   "cell_type": "markdown",
   "metadata": {},
   "source": [
    "### Miscellaneous"
   ]
  },
  {
   "cell_type": "code",
   "execution_count": null,
   "metadata": {},
   "outputs": [],
   "source": [
    "def first(arr):\n",
    "    return arr.item(0)"
   ]
  },
  {
   "cell_type": "markdown",
   "metadata": {},
   "source": [
    "# Question 1"
   ]
  },
  {
   "cell_type": "markdown",
   "metadata": {},
   "source": [
    "For each of the following cells, fill in the correct value of `a` so that the output is an array with the numbers 2020 and 8. You may only change the first line of each cell: don't change anything else."
   ]
  },
  {
   "cell_type": "markdown",
   "metadata": {},
   "source": [
    "(a) (2 points)"
   ]
  },
  {
   "cell_type": "code",
   "execution_count": null,
   "metadata": {},
   "outputs": [],
   "source": [
    "a = ...\n",
    "# Do not change anything below this line.\n",
    "b = make_array(2017, 0)\n",
    "a + b"
   ]
  },
  {
   "cell_type": "markdown",
   "metadata": {},
   "source": [
    "(b) (2 points)"
   ]
  },
  {
   "cell_type": "code",
   "execution_count": null,
   "metadata": {},
   "outputs": [],
   "source": [
    "a = ...\n",
    "# Do not change anything below this line.\n",
    "t = Table().with_columns(\n",
    "    'year', np.arange(2000, 2030, 10),\n",
    "    'course', make_array(8, 100, 102),\n",
    ")\n",
    "first_col_index = a.item(0)\n",
    "second_col_index = a.item(1)\n",
    "year = t.column('year').item(first_col_index)\n",
    "course = t.column('course').item(second_col_index)\n",
    "make_array(year, course)"
   ]
  },
  {
   "cell_type": "markdown",
   "metadata": {},
   "source": [
    "# Question 2: Books and Graphs"
   ]
  },
  {
   "cell_type": "markdown",
   "metadata": {},
   "source": [
    "Zeynep goes through her family's entire collection of 370 books and records data for each one. She records her data in a table called `books`. The lengths of the books (in pages) are in a column labeled `Length`. \n",
    "\n",
    "She notices that all of the books are between 50 and 400 pages, and uses the following line of code to generate a histogram showing the lengths:\n",
    "\n",
    "```\n",
    "books.hist('Length', unit='page', bins=np.arange(50, 400, 25))\n",
    "```"
   ]
  },
  {
   "attachments": {
    "image.png": {
     "image/png": "[encoded data removed]"
    }
   },
   "cell_type": "markdown",
   "metadata": {},
   "source": [
    "![image.png](attachment:image.png)"
   ]
  },
  {
   "cell_type": "markdown",
   "metadata": {},
   "source": [
    "(2 points) What proportion of books are between 200 and 224 pages long (inclusive)? Your answer should be a number between 0 and 1, and should be correct to within .01."
   ]
  },
  {
   "cell_type": "code",
   "execution_count": null,
   "metadata": {},
   "outputs": [],
   "source": [
    "q21_proportion_books_200_224 = ..."
   ]
  },
  {
   "cell_type": "markdown",
   "metadata": {},
   "source": [
    "(2 points) Which of the following is closest to the median length?\n",
    "\n",
    "1. 200\n",
    "2. 260\n",
    "3. 315"
   ]
  },
  {
   "cell_type": "code",
   "execution_count": null,
   "metadata": {},
   "outputs": [],
   "source": [
    "median_length_choice = ..."
   ]
  },
  {
   "cell_type": "markdown",
   "metadata": {},
   "source": [
    "(3 points) Based on the histogram and the information above, which must be true?\n",
    "\n",
    "1. There are more long books (over 200 pages) than short books (under 200 pages) in her family's collection.\n",
    "2. The percentage of books between 125 and 149 pages (inclusive) is about 20% (that is, 19-21%).\n",
    "3. The books in her family's collection are like a random sample from the population of all books.\n",
    "4. In her family's collection, nonfiction books are longer on average than fiction books.\n",
    "5. The mean length is less than the median length."
   ]
  },
  {
   "cell_type": "code",
   "execution_count": null,
   "metadata": {},
   "outputs": [],
   "source": [
    "book_interpretation_choices = ..."
   ]
  },
  {
   "cell_type": "markdown",
   "metadata": {},
   "source": [
    "Zeynep finds review data for each book online, and adds it to her `books` table in a column called `Rating`. The values in this column are floats between 1 and 5, indicating the number of \"stars\" the book got, on average.\n",
    "\n",
    "She computes the following quantities, which are reproduced for you in the cell below:"
   ]
  },
  {
   "attachments": {
    "image.png": {
     "image/png": "[encoded data removed]"
    }
   },
   "cell_type": "markdown",
   "metadata": {},
   "source": [
    "![image.png](attachment:image.png)"
   ]
  },
  {
   "cell_type": "code",
   "execution_count": null,
   "metadata": {},
   "outputs": [],
   "source": [
    "r = 0.462\n",
    "length_mean = 229.489\n",
    "length_sd = 65.7\n",
    "rating_mean = 2.948\n",
    "rating_sd = 0.801"
   ]
  },
  {
   "cell_type": "code",
   "execution_count": null,
   "metadata": {},
   "outputs": [],
   "source": [
    "((300 - length_mean)/length_sd * r) * rating_sd + rating_mean"
   ]
  },
  {
   "cell_type": "code",
   "execution_count": null,
   "metadata": {},
   "outputs": [],
   "source": [
    "((4 - rating_mean)/rating_sd * r) * length_sd + length_mean"
   ]
  },
  {
   "cell_type": "markdown",
   "metadata": {},
   "source": [
    "(2 points) Using linear regression, what would she predict for the average rating of a book with 300 pages?"
   ]
  },
  {
   "cell_type": "code",
   "execution_count": null,
   "metadata": {},
   "outputs": [],
   "source": [
    "book_with_300_pages_avg_rating = ..."
   ]
  },
  {
   "cell_type": "markdown",
   "metadata": {},
   "source": [
    "(2 points) Using linear regression, what would she predict for the length of a book with an average rating of 4 stars?"
   ]
  },
  {
   "cell_type": "code",
   "execution_count": null,
   "metadata": {},
   "outputs": [],
   "source": [
    "book_with_4_stars_length = ..."
   ]
  },
  {
   "cell_type": "markdown",
   "metadata": {},
   "source": [
    "(4 points) Fill in the blank: when predicting average rating from book length, at least 93.75% of the predictions will be correct to within ___ stars of the true value.\n",
    "\n",
    "*Hint*: $93.75\\%$ is the same as $1 - \\frac{1}{16}$."
   ]
  },
  {
   "cell_type": "code",
   "execution_count": null,
   "metadata": {},
   "outputs": [],
   "source": [
    "range_of_accurate_book_predictions = ..."
   ]
  },
  {
   "cell_type": "markdown",
   "metadata": {},
   "source": [
    "# Question 3: Actors"
   ]
  },
  {
   "cell_type": "markdown",
   "metadata": {},
   "source": [
    "Recall the `actors` table from lecture:"
   ]
  },
  {
   "cell_type": "code",
   "execution_count": null,
   "metadata": {},
   "outputs": [],
   "source": [
    "actors = Table.read_table('actors.csv').where('Number of Movies', are.above(10))\n",
    "actors.show(3)"
   ]
  },
  {
   "cell_type": "markdown",
   "metadata": {},
   "source": [
    "You can find a description of the columns in [Chapter 7](https://www.inferentialthinking.com/chapters/07/Visualization.html) of the textbook. Note that just like in lecture and the textbook, we've removed Anthony Daniels since he's an outlier."
   ]
  },
  {
   "cell_type": "markdown",
   "metadata": {},
   "source": [
    "## Part 1: Fits, correlations, and residuals"
   ]
  },
  {
   "cell_type": "markdown",
   "metadata": {},
   "source": [
    "(2 points) Which of the following must be true about the actors in the table above? All the statements involve the relationship between the number of movies the actor has been in and the average per movie. You may use the provided cell (or any additional ones you create) to make plots or do any computation that will help you answer the question.\n",
    "\n",
    "1. Being in more movies causes actors to make less money for each one.\n",
    "2. There is a *negative* association between the number of movies an actor is in and the average they earn for each one.\n",
    "3. There is a *positive* association between the number of movies an actor is in and the average they earn for each one.\n",
    "4. When predicting the average gross per movie from the number of movies, the linear regression line is guaranteed to give a better prediction (lower RMSE) than any nonlinear function."
   ]
  },
  {
   "cell_type": "code",
   "execution_count": null,
   "metadata": {},
   "outputs": [],
   "source": [
    "# You may use this cell for any scratch work, graphs, or computation to help you answer the question above, but we won't\n",
    "# use any of it when grading your work."
   ]
  },
  {
   "cell_type": "code",
   "execution_count": null,
   "metadata": {},
   "outputs": [],
   "source": [
    "num_movies_avg_per_movie_statements = ..."
   ]
  },
  {
   "cell_type": "markdown",
   "metadata": {},
   "source": [
    "Letitia and Adoor are debating the best way to predict the total box office receipt of all an actor's movies (i.e., the `Total Gross` column). Letitia wants to predict using how well an actor's \\#1 movie did (i.e., the `Gross` column), and Adoor wants to predict using the total number of movies they've been in (i.e., the `Number of Movies` column). The construct the following scatter plots, and compute that the correlations are 0.511 (left, Adoor) and 0.407 (right, Letitia)."
   ]
  },
  {
   "attachments": {
    "image.png": {
     "image/png": "[encoded data removed]"
    }
   },
   "cell_type": "markdown",
   "metadata": {},
   "source": [
    "![image.png](attachment:image.png)"
   ]
  },
  {
   "cell_type": "markdown",
   "metadata": {},
   "source": [
    "They also create the following residual plots:"
   ]
  },
  {
   "attachments": {
    "image.png": {
     "image/png": "[encoded data removed]"
    }
   },
   "cell_type": "markdown",
   "metadata": {},
   "source": [
    "![image.png](attachment:image.png)"
   ]
  },
  {
   "cell_type": "markdown",
   "metadata": {},
   "source": [
    "(2 points) For each plot, identify which of the following problems are present in each of the two residual plots:\n",
    "\n",
    "1. The residual plot has a nonlinear pattern.\n",
    "2. The residual plot has a linear trend.\n",
    "3. The residual plot is heteroscedastic (that is, the variance is uneven)."
   ]
  },
  {
   "cell_type": "code",
   "execution_count": null,
   "metadata": {},
   "outputs": [],
   "source": [
    "number_of_movies_residual_problems = ...\n",
    "top_gross_residual_problems = ..."
   ]
  },
  {
   "cell_type": "markdown",
   "metadata": {},
   "source": [
    "## Part 2: A different error"
   ]
  },
  {
   "cell_type": "markdown",
   "metadata": {},
   "source": [
    "For the remainder of this question, we'll focus on using the box office gross from the actor's top movie (that is, the `Gross` column) to predict the total box office receipt from all the actor's movies (that is, the `Total Gross` column)."
   ]
  },
  {
   "cell_type": "markdown",
   "metadata": {},
   "source": [
    "Recall that when learning about linear regression, we used root mean square error (RMSE). Here's a function that computes it:"
   ]
  },
  {
   "cell_type": "code",
   "execution_count": null,
   "metadata": {},
   "outputs": [],
   "source": [
    "def rmse(predictions, actual_values):\n",
    "    \"\"\"\n",
    "    Takes an array of predictions and an array of actual observed values, and returns\n",
    "    the root mean squared error.\n",
    "    \"\"\"\n",
    "    error = actual_values - predictions\n",
    "    squared_error = error ** 2\n",
    "    mean_squared_error = np.mean(squared_error)\n",
    "    return np.sqrt(mean_squared_error)"
   ]
  },
  {
   "cell_type": "markdown",
   "metadata": {},
   "source": [
    "(3 points) Letitia decides that instead of using RMSE, she wants to use a *weighted error*. She wants to find a prediction that's more accurate for actors like her who've been in fewer movies, and doesn't care as much about actors who've been in lots of movies. So, she comes up with the following way to compute the *weighted RMSE* for a prediction line:\n",
    "\n",
    "1. Compute the squared error, just like before.\n",
    "2. For each actor, *divide* the squared error by the weights (i.e., the number of movies the actor has been in). The result of this division will be called the weighted squared error for each actor.\n",
    "3. Compute the average weighted squared error.\n",
    "4. Take the square root.\n",
    "\n",
    "Complete the function below to implement the procedure described here."
   ]
  },
  {
   "cell_type": "code",
   "execution_count": null,
   "metadata": {},
   "outputs": [],
   "source": [
    "def weighted_rmse(predictions, actual_values, weights):\n",
    "    error = actual_values - predictions\n",
    "    ...\n",
    "    return ..."
   ]
  },
  {
   "cell_type": "markdown",
   "metadata": {},
   "source": [
    "*TODO* public test that makes sure they're using the argument and not `actors.column('Number of Movies')`"
   ]
  },
  {
   "cell_type": "markdown",
   "metadata": {},
   "source": [
    "(4 points) Complete the function below, which takes in the slope and intercept for any line, and computes the weighted RMSE for predicting these actors' total box office gross using that line.\n",
    "\n",
    "*Hint*: your solution should use the `weighted_rmse` function you defined above."
   ]
  },
  {
   "cell_type": "code",
   "execution_count": null,
   "metadata": {},
   "outputs": [],
   "source": [
    "def weighted_prediction_error(any_slope, any_intercept):\n",
    "    \n",
    "    return ..."
   ]
  },
  {
   "cell_type": "markdown",
   "metadata": {},
   "source": [
    "(4 points) Find the slope and intercept of the line whose predictions have the smallest weighted RMSE."
   ]
  },
  {
   "cell_type": "code",
   "execution_count": null,
   "metadata": {
    "scrolled": false
   },
   "outputs": [],
   "source": [
    "...\n",
    "best_weighted_slope = ...\n",
    "best_weighted_intercept = ..."
   ]
  },
  {
   "cell_type": "markdown",
   "metadata": {},
   "source": [
    "The code below plots the original linear regression line (dark blue) and the line with the smallest weighted RMSE (light blue). The size of each dot represents the number of movies that actor has been in."
   ]
  },
  {
   "cell_type": "code",
   "execution_count": null,
   "metadata": {
    "scrolled": false
   },
   "outputs": [],
   "source": [
    "# Do not change any of the code in this cell. \n",
    "\n",
    "# You don't have to answer any questions here or understand how this cell works: \n",
    "# it just shows you the result of your work.\n",
    "x = actors.column('Gross')\n",
    "y = actors.column('Total Gross')\n",
    "weights = actors.column('Number of Movies')\n",
    "\n",
    "x_plot = make_array(169, 937)\n",
    "regression_line = x_plot * best_weighted_slope + best_weighted_intercept\n",
    "weighted_line = x_plot * slope(actors, 'Gross', 'Total Gross') + intercept(actors, 'Gross', 'Total Gross')\n",
    "plots.figure()\n",
    "plots.scatter(x, y, s=(weights ** 2) / 30, c='black')\n",
    "plots.plot(x_plot, regression_line, color='tab:blue')\n",
    "plots.plot(x_plot, weighted_line, color='tab:orange')\n",
    "plots.xlabel('Gross')\n",
    "plots.ylabel('Total Gross')"
   ]
  },
  {
   "cell_type": "markdown",
   "metadata": {},
   "source": [
    "# Question X: Gardening"
   ]
  },
  {
   "cell_type": "markdown",
   "metadata": {},
   "source": [
    "Silla isn't very good at keeping his plants alive, so he decides to try using a classifier to predict whether the plants into his garden will survive. He spends from March 17 until May 12 (8 weeks) collecting data for each plant on:\n",
    "\n",
    "* **`Water`**: a float, the average amount of water he gave it per week (in ounces),\n",
    "* **`Pot Size`**: a float, the size of the pot the plant was in (in gallons)\n",
    "* **`Survived`**: a boolean, whether or not the plant was alive on May 12\n",
    "\n",
    "He trains a $k$-nearest neighbor classifier on his data, and uses $k=3$.\n",
    "\n",
    "He also draws the following scatterplot, marking plants that survived with blue circles and plants that died with red squares. Assume all his plants are shown here:"
   ]
  },
  {
   "attachments": {
    "image.png": {
     "image/png": "[encoded data removed]"
    }
   },
   "cell_type": "markdown",
   "metadata": {},
   "source": [
    "![image.png](attachment:image.png)"
   ]
  },
  {
   "cell_type": "markdown",
   "metadata": {},
   "source": [
    "For each of the following questions, you should answer one of:\n",
    "* `True`, if the prediction is that the plant would survive\n",
    "* `False`, if the prediction is that the plant would die,\n",
    "* A string with an explanation if it isn't appropriate to use his classifier to answer the question.\n",
    "\n",
    "For example, if a question asked \"How tall will his tallest plant be?\", then your answer should be `\"The classifier can't predict how tall plants are, only whether or not they survive\"`."
   ]
  },
  {
   "cell_type": "markdown",
   "metadata": {},
   "source": [
    "(2 points) Suppose Silla had planted an extra plant in a 0.25-gallon pot that received 3.5 ounces of water per week. Would it have survived? "
   ]
  },
  {
   "cell_type": "code",
   "execution_count": null,
   "metadata": {},
   "outputs": [],
   "source": []
  },
  {
   "cell_type": "markdown",
   "metadata": {},
   "source": [
    "(2 points) Silla was taking care of his roommate's plant (which isn't shown in the graph above). It was in a 2.5-gallon pot, and he gave it 5 ounces of water per week. Did it survive?"
   ]
  },
  {
   "cell_type": "code",
   "execution_count": null,
   "metadata": {},
   "outputs": [],
   "source": []
  },
  {
   "cell_type": "markdown",
   "metadata": {},
   "source": [
    "(2 points) Silla was taking care of his other roommate's plant (which also isn't shown in the graph above). It was in a 6-gallon pot, and he gave it 6 ounces of water per week. Did it survive?"
   ]
  },
  {
   "cell_type": "code",
   "execution_count": null,
   "metadata": {},
   "outputs": [],
   "source": []
  },
  {
   "cell_type": "markdown",
   "metadata": {},
   "source": [
    "(2 points) Silla graduates and moves from Berkeley to Miami, Florida. To remind himself of his Berkeley apartment, he buys some of the same plants he had before. He puts one in a 0.25-gallon pot, and gives it 4.5 ounces of water per week for 8 weeks. Will it survive?"
   ]
  },
  {
   "cell_type": "code",
   "execution_count": null,
   "metadata": {},
   "outputs": [],
   "source": []
  },
  {
   "cell_type": "markdown",
   "metadata": {},
   "source": [
    "# Question 4: Electricity"
   ]
  },
  {
   "cell_type": "markdown",
   "metadata": {},
   "source": [
    "The table `electricity` contains data for 200 randomly sampled energy utilities from the US in 2017."
   ]
  },
  {
   "cell_type": "code",
   "execution_count": null,
   "metadata": {},
   "outputs": [],
   "source": [
    "electricity = Table.read_table('electricity2017_sample.csv').drop('Power in')\n",
    "electricity.show(3)"
   ]
  },
  {
   "cell_type": "markdown",
   "metadata": {},
   "source": [
    "It has the following columns:\n",
    "* **`Name`**: a string, the name of the utility\n",
    "* **`State`**: a string, the two-letter abbreviation for the state the utility operates in\n",
    "* **`Type`**: a string, the type of utility \n",
    "* **`Residential customers`**: an int, the number of residential customers the utility serves\n",
    "* **`Revenue`**: a float, the total revenue for the utility in 2017 measured in thousands of dollars\n",
    "* **`Power generated`**: a float, the amount of power the utility generated itself (in megawatt-hours)\n",
    "* **`Power bought`**: a float, the amount of power the utility bought or exchanged from other utilities (in megawatt-hours)\n",
    "* **`Summer demand`**: a float, representing peak demand in the summer (in megawatts)\n",
    "* **`Winter demand`**: a float, representing peak demand in the winter (in megawatts)"
   ]
  },
  {
   "cell_type": "markdown",
   "metadata": {},
   "source": [
    "(3 points) Janea wants to use this random sample to understand energy utilities more broady. In particular, she wants to estimate the following quantities from the sample:\n",
    "\n",
    "1. The maximum number of residential customers served by any energy utility in the US\n",
    "2. The average (mean) demand in the summer across all energy utilities in the US\n",
    "3. The median revenue of all energy utilities in Hawaii\n",
    "4. The slope of a linear prediction of winter demand from summer demand, across all energy utilities in the US\n",
    "\n",
    "If she decides to use the bootstrap to construct a 95% confidence interval, which of the quantities above are good choices for this technique?"
   ]
  },
  {
   "cell_type": "code",
   "execution_count": null,
   "metadata": {},
   "outputs": [],
   "source": [
    "good_electricity_bootstrap_candidates = ..."
   ]
  },
  {
   "cell_type": "markdown",
   "metadata": {},
   "source": [
    "(3 points) "
   ]
  },
  {
   "cell_type": "markdown",
   "metadata": {},
   "source": [
    "(4 points) You find some notes on how to construct a confidence interval using the bootstrap, but they're out of order. Assign the name `bootstrap_steps_order` to the correct reordering of the following steps.\n",
    "\n",
    "For example, if the correct order is to reverse the steps, then the answer would be `make_array(9, 8, 7, 6, 5, 4, 3, 2, 1)`.\n",
    "\n",
    "1. Write a function that computes the statistic you're interested in from a table.\n",
    "2. Write a function that computes the statist"
   ]
  },
  {
   "cell_type": "markdown",
   "metadata": {},
   "source": [
    "(2 points) Javier runs a utility, and wants to predict what his revenue will be based on summer demand. He isn't sure whether linear regression is a good fit: create a plot to help convince him that it is."
   ]
  },
  {
   "cell_type": "code",
   "execution_count": null,
   "metadata": {},
   "outputs": [],
   "source": [
    "# Code to create a plot goes here.\n",
    "..."
   ]
  },
  {
   "cell_type": "markdown",
   "metadata": {},
   "source": [
    "(5 points) Javier's utility had 90 megawatts of demand this summer. He uses the bootstrap to construct a 95% confidence interval for the prediction of its revenue based on linear regression, and finds that the interval is \\\\$40.6 to \\\\$45 million dollars (remember, the `Revenue` column is in thousands of dollars).\n",
    "\n",
    "Which of the following must be true?\n",
    "\n",
    "1. 95% of utilities in the sample had revenue between \\\\$40.6 and \\\\$45.0 million dollars.\n",
    "2. In 95% of Javier's bootstrap samples, the height of the regression line at $x=90$ was between 40600 and 45000 (that is, \\\\$40.6 and \\\\$45 million dollars).\n",
    "3. In the population of all US energy utilities, 95% of the ones with 90 megawatts of summer demand have between \\\\$40.6 and \\\\$45 million dollars of revenue.\n",
    "4. There is a 95% chance that Javier's utility's revenue this year will be between \\\\$40.6 and \\\\$45 million dollars.\n",
    "5. When drawing a sample of 200 US energy utilities, there is a 95% chance that the average revenue for utilities with 90 megawatts of summer demand will be between \\\\$40.6 and \\\\$45 million dollars.\n"
   ]
  },
  {
   "cell_type": "code",
   "execution_count": null,
   "metadata": {},
   "outputs": [],
   "source": [
    "revenue_demand_prediction_choices = ..."
   ]
  },
  {
   "cell_type": "markdown",
   "metadata": {},
   "source": [
    "(4 points) Javier wants to estimate the difference between the average size (number of customers) of municipal utilities (owned by local governments) and cooperative utilities (owned by customers). Help him by completing the function below:"
   ]
  },
  {
   "cell_type": "code",
   "execution_count": null,
   "metadata": {},
   "outputs": [],
   "source": [
    "def compute_municipal_cooperative_difference(tbl):\n",
    "    \"\"\" \n",
    "    Given a table with columns 'Type' and 'Residential customers', \n",
    "    returns the difference between  the average size of municipal utilities\n",
    "    and cooperative utilities.\n",
    "    \"\"\"\n",
    "    return ..."
   ]
  },
  {
   "cell_type": "markdown",
   "metadata": {},
   "source": [
    "*TODO*: public test that runs the function on the original table and compares to the right answer, to help avoid cascading errors"
   ]
  },
  {
   "cell_type": "markdown",
   "metadata": {},
   "source": [
    "*TODO*: public test that runs the function on a smaller table to make sure they're using the argument and not hardcoding the original electricity table"
   ]
  },
  {
   "cell_type": "markdown",
   "metadata": {},
   "source": [
    "(4 points) Javier wonders: if his sample had been different, could he have gotten a different answer? Complete the code below, which computes 10,000 bootstrap samples of the statistic from the previous part and saves them in the array `bootstrap_utility_differences`."
   ]
  },
  {
   "cell_type": "code",
   "execution_count": null,
   "metadata": {},
   "outputs": [],
   "source": [
    "bootstrap_utility_differences = ...\n",
    "for i in ...:\n",
    "    resample = ...\n",
    "    bootstrap_utility_differences = ..."
   ]
  },
  {
   "cell_type": "markdown",
   "metadata": {},
   "source": [
    "(3 points) Javier's favorite number is 92, so he wants to make a 92% confidence interval to estimate the value of the statistic above in the population. Use the `bootstrap_utility_differences` to assign `bootstrap_utility_left` and `bootstrap_utility_right`:"
   ]
  },
  {
   "cell_type": "code",
   "execution_count": null,
   "metadata": {},
   "outputs": [],
   "source": [
    "bootstrap_utility_left = ...\n",
    "bootstrap_utility_right = ..."
   ]
  },
  {
   "cell_type": "markdown",
   "metadata": {},
   "source": [
    "# Question 5: US Counties and Food Deserts"
   ]
  },
  {
   "cell_type": "markdown",
   "metadata": {},
   "source": [
    "A [food desert](https://en.wikipedia.org/wiki/Food_desert) is an area that has limited access to nutritious food. In this question, we'll look at food access data for US counties from 2010 to 2015.\n"
   ]
  },
  {
   "cell_type": "code",
   "execution_count": null,
   "metadata": {},
   "outputs": [],
   "source": [
    "food_access = Table.read_table('food_access_2010_2015.csv')\n",
    "food_access.show(3)"
   ]
  },
  {
   "cell_type": "markdown",
   "metadata": {},
   "source": [
    "The `food_access` table contains one row for each county in the 50 states of the US.\n",
    "\n",
    "It has the following columns:\n",
    "* **`county`**: a string, the name of the county\n",
    "* **`population`**: an int, the number of people living in that county\n",
    "* **`state`**: a string, the two-letter abbreviation for the state the county is in\n",
    "* **`housing_units`**: an int, the number of housing units available in the county\n",
    "* **`urban_pct`**: a float between 0 and 100, the percentage of housing units that are urban in the county\n",
    "* **`low_access_1`**: an int, the number of people in that county living more than one mile away from their nearest grocery store\n",
    "* **`low_access_10`**: an int, the number of people in that county living more than ten miles away from their nearest grocery store\n",
    "* **`low_access_20`**: an int, the number of people in that county living more than twenty miles away from their nearest grocery store\n",
    "* **`carless_pct`**: a float between 0 and 100, the percentage of people in that county who don't have a car in their household"
   ]
  },
  {
   "cell_type": "markdown",
   "metadata": {},
   "source": [
    "In this question, you'll also work with the `states` table:"
   ]
  },
  {
   "cell_type": "code",
   "execution_count": null,
   "metadata": {},
   "outputs": [],
   "source": [
    "states = Table.read_table('states.csv')\n",
    "states.show(3)"
   ]
  },
  {
   "cell_type": "markdown",
   "metadata": {},
   "source": [
    "For each state, the table has:\n",
    "* **`State`**: a string, the name of the state\n",
    "* **`State Code`**: a string, the two-letter abbreviation for the state\n",
    "* **`Region`**: a string, which region the state belongs to\n",
    "* **`Division`**: a string, which division the state belongs to\n",
    "\n",
    "If you're curious about what the regions and divisions are (and what the difference between them is), see [this map from the US Census Bureau](https://www2.census.gov/geo/pdfs/maps-data/maps/reference/us_regdiv.pdf)."
   ]
  },
  {
   "cell_type": "markdown",
   "metadata": {},
   "source": [
    "### Part 1: Graphs"
   ]
  },
  {
   "cell_type": "markdown",
   "metadata": {},
   "source": [
    "For each of the following questions, create a graph that would help answer the question. You don't need to answer the question itself in this notebook: just make a graph."
   ]
  },
  {
   "cell_type": "markdown",
   "metadata": {},
   "source": [
    "(2 points) Do some states have more counties than others? If so, which ones?"
   ]
  },
  {
   "cell_type": "code",
   "execution_count": null,
   "metadata": {},
   "outputs": [],
   "source": []
  },
  {
   "cell_type": "markdown",
   "metadata": {},
   "source": [
    "(2 points) What kind of relationship is there between car ownership and how urban a county is?"
   ]
  },
  {
   "cell_type": "code",
   "execution_count": null,
   "metadata": {},
   "outputs": [],
   "source": []
  },
  {
   "cell_type": "markdown",
   "metadata": {},
   "source": [
    "### Part 2: Table manipulation"
   ]
  },
  {
   "cell_type": "markdown",
   "metadata": {},
   "source": [
    "For each of the following questions, write Python code that computes (or draws) the specified quantity, table, or graph."
   ]
  },
  {
   "cell_type": "markdown",
   "metadata": {},
   "source": [
    "(2 points) The number of people living more than 10 miles away from a grocery store in Alameda County, where UC Berkeley is."
   ]
  },
  {
   "cell_type": "code",
   "execution_count": null,
   "metadata": {},
   "outputs": [],
   "source": [
    "num_people_more_than_10_miles_away_alameda_county = ...\n",
    "num_people_more_than_10_miles_away_alameda_county"
   ]
  },
  {
   "cell_type": "markdown",
   "metadata": {},
   "source": [
    "(0 points) *Just for fun*: Same as the above question, but for any other county in California that you've lived in or spent time in. Do the results surprise you?"
   ]
  },
  {
   "cell_type": "markdown",
   "metadata": {},
   "source": [
    "(2 points) The number of counties with over 1,000,000 people."
   ]
  },
  {
   "cell_type": "code",
   "execution_count": null,
   "metadata": {},
   "outputs": [],
   "source": [
    "...\n",
    "num_counties_with_over_million_people = ...\n",
    "num_counties_with_over_million_people"
   ]
  },
  {
   "cell_type": "markdown",
   "metadata": {},
   "source": [
    "(3 points) The county in California that has the most people living far away (>10 miles) from a grocery store."
   ]
  },
  {
   "cell_type": "code",
   "execution_count": null,
   "metadata": {},
   "outputs": [],
   "source": [
    "...\n",
    "california_county_most_food_deserted = ...\n",
    "california_county_most_food_deserted"
   ]
  },
  {
   "cell_type": "markdown",
   "metadata": {},
   "source": [
    "(3 points) A table with one row for each state, and two columns: the two-letter abbreviation for the state, and the total number of housing units in that state."
   ]
  },
  {
   "cell_type": "code",
   "execution_count": null,
   "metadata": {},
   "outputs": [],
   "source": [
    "...\n",
    "housing_units_per_state = ...\n",
    "housing_units_per_state"
   ]
  },
  {
   "cell_type": "markdown",
   "metadata": {},
   "source": [
    "(5 points) An array with the three states with the highest percentage of their populations living more than ten miles from their nearest grocery store."
   ]
  },
  {
   "cell_type": "code",
   "execution_count": null,
   "metadata": {},
   "outputs": [],
   "source": [
    "by_state = ...\n",
    "by_state = by_state.with_column(\n",
    "    'low_access_10_proportion', ...\n",
    ")\n",
    "\n",
    "state_with_highest_percentage_over_10_miles_away = ...\n",
    "state_with_highest_percentage_over_10_miles_away"
   ]
  },
  {
   "cell_type": "markdown",
   "metadata": {},
   "source": [
    "(6 points) A table with the largest state (by population) in each region. It should have one row for each division, and two columns: one with the name of the division and one with the name (not the two letter abbreviation) of the most populated state in that division. The names of the columns don't matter, but they must be in that order.\n",
    "\n",
    "(*Hint*: you may find the `first` function helpful: we've defined it for you in the useful functions section at the top.)"
   ]
  },
  {
   "cell_type": "code",
   "execution_count": null,
   "metadata": {},
   "outputs": [],
   "source": [
    "state_populations = ...\n",
    "...\n",
    "biggest_state_for_each_division = ..."
   ]
  },
  {
   "cell_type": "markdown",
   "metadata": {},
   "source": [
    "### Part 3: relationships between quantities"
   ]
  },
  {
   "cell_type": "markdown",
   "metadata": {},
   "source": [
    "For the rest of this question, instead of looking at the number of people without access to a grocery store, we'll look at the percentage.\n",
    "\n",
    "We'll use the following terms:\n",
    "\n",
    "* *low access at 1 mile*: the percentage of people in a county whose nearest grocery store is at least 10 miles away\n",
    "* *low access at 10 miles*: the percentage of people in a county whose nearest grocery store is at least 10 miles away"
   ]
  },
  {
   "cell_type": "code",
   "execution_count": null,
   "metadata": {
    "scrolled": true
   },
   "outputs": [],
   "source": [
    "food_access_with_pcts = food_access.with_columns(\n",
    "    'low_access_1_pct', food_access.column('low_access_1') / food_access.column('population') * 100,\n",
    "    'low_access_10_pct', food_access.column('low_access_10') / food_access.column('population') * 100,\n",
    "    'low_access_20_pct', food_access.column('low_access_20') / food_access.column('population') * 100,\n",
    ").drop('low_access_1', 'low_access_10', 'low_access_20')\n",
    "food_access_with_pcts.show(3)"
   ]
  },
  {
   "cell_type": "markdown",
   "metadata": {},
   "source": [
    "(5 points) Create one plot that you'd use to answer the following question, then answer the related multiple choice question below:\n",
    "\n",
    "Is there any association between the percentage of urban housing and low access at **10 miles** in US counties?"
   ]
  },
  {
   "cell_type": "code",
   "execution_count": null,
   "metadata": {},
   "outputs": [],
   "source": [
    "# Code to generate your plot goes here\n"
   ]
  },
  {
   "cell_type": "markdown",
   "metadata": {},
   "source": [
    "Based only on the data in the table (and the graph you created using that data), which must be true?\n",
    "1. Knowing the percentage of urban housing in a county cannot help us predict low access at 10 miles.\n",
    "2. There is a strong linear association between percentage of urban housing and low access at 10 miles.\n",
    "3. The distribution of low access at 10 miles is different between non-urban counties (<5% urban housing) and other counties.\n",
    "4. For counties that are very urban (>80% urban housing), more than half of their population is within 10 miles of a grocery store."
   ]
  },
  {
   "cell_type": "code",
   "execution_count": null,
   "metadata": {},
   "outputs": [],
   "source": [
    "choices = ..."
   ]
  },
  {
   "cell_type": "markdown",
   "metadata": {},
   "source": [
    "(5 points) Create one plot that you'd use to answer the following question, then answer the related multiple choice question below:\n",
    "\n",
    "Is there any association between the percentage of urban housing and low access at **1 mile** in US counties?"
   ]
  },
  {
   "cell_type": "code",
   "execution_count": null,
   "metadata": {},
   "outputs": [],
   "source": [
    "# Code to generate your plot goes here\n"
   ]
  },
  {
   "cell_type": "markdown",
   "metadata": {},
   "source": [
    "Based only on the data in the table (and the graph you created using that data), which must be true?\n",
    "\n",
    "1. For counties with some urban housing (>5%), there is a negative association between the percentage of urban housing and low access at 1 mile.\n",
    "2. For counties in the US, having more urban housing causes more grocery stores.\n",
    "3. Increased "
   ]
  },
  {
   "cell_type": "markdown",
   "metadata": {},
   "source": [
    "(2 points) What is the correlation between percentage of urban housing and low access at 1 mile?\n",
    "\n",
    "(*Hint*: You may find some of the functions defined in the \"Useful functions\" section helpful)."
   ]
  },
  {
   "cell_type": "code",
   "execution_count": null,
   "metadata": {},
   "outputs": [],
   "source": [
    "correlation_urban_low1 = ...\n",
    "correlation_urban_low1"
   ]
  },
  {
   "cell_type": "markdown",
   "metadata": {},
   "source": [
    "(2 points) For counties with any urban housing (that is, more than 0%), what is the correlation between percentage of urban housing and low access at 1 mile?\n",
    "\n",
    "(*Hint*: You may find some of the functions defined in the \"Useful functions\" section helpful)."
   ]
  },
  {
   "cell_type": "code",
   "execution_count": null,
   "metadata": {},
   "outputs": [],
   "source": [
    "correlation_urban_low1_urban_cty = ...\n",
    "correlation_urban_low1_urban_cty"
   ]
  },
  {
   "cell_type": "markdown",
   "metadata": {},
   "source": [
    "# Question 6: Likes on Instagram"
   ]
  },
  {
   "cell_type": "markdown",
   "metadata": {},
   "source": [
    "Natalia, an engineer at Instagram, conducts a randomized controlled experiment to evaluate whether social media anxiety is reduced when users can't see the number of likes shown on a post. When the next Instagram software update ships, she randomly assigns 10,000 users in the city of Berkeley to no longer be able to see the number of likes (Group A) and 8,000 to still be able to see the number of likes (Group B).\n",
    "\n",
    "One month after shipping the new update, she measures each user's happiness and general sentiment towards Instagram with a survey. She wants to test the claim that the treatment (i.e. hiding the number of likes) increases users' happiness scores.\n",
    "\n",
    "She prepares a table `instagram_users`, containing 18,000 rows, one for each user in her experiment. She can't share the full dataset with you since it's proprietary, but she chooses 3 random rows to show you, just so you can see what it looks like:"
   ]
  },
  {
   "cell_type": "code",
   "execution_count": null,
   "metadata": {},
   "outputs": [],
   "source": [
    "instagram_users = Table.read_table('instagram_sample.csv')\n",
    "instagram_users"
   ]
  },
  {
   "cell_type": "markdown",
   "metadata": {},
   "source": [
    "* **`sex`**: a string, the user's sex (`Male` or `Female`)\n",
    "* **`age`**: an int, the user's age\n",
    "* **`group`**: a string, the user's group for the experiment (`A` or `B`)\n",
    "* **`happiness`**: an int, the user's happiness score from the survey (between 0-100)\n",
    "* **`sentiment`**: a string, the user's sentiment from the survey (`Positive`, `Neutral`, or `Negative`)"
   ]
  },
  {
   "cell_type": "markdown",
   "metadata": {},
   "source": [
    "TODO add null\n",
    "\n",
    "For her test statistic, Natalia decides to use the difference between the average happiness scores of Group A and Group B (that is, the average of Group A minus the average of Group B)."
   ]
  },
  {
   "cell_type": "markdown",
   "metadata": {},
   "source": [
    "(6 points) Natalia asks her coworker for help simulating one value of the test statistic under the null hypothesis, but the code he gives her has some mistakes. Fix the code below so that it correctly computes the test statistic."
   ]
  },
  {
   "cell_type": "code",
   "execution_count": null,
   "metadata": {},
   "outputs": [],
   "source": [
    "# This code contains mistakes that you need to fix.\n",
    "\n",
    "def compute_instagram_test_statistic():\n",
    "    # Shuffle the data\n",
    "    shuffled_groups = instagram_users.take('group').sample(with_replacement = False)\n",
    "\n",
    "    users = users.append('shuffled_groups', shuffled_groups.column(1))\n",
    "    # Two averages\n",
    "    mean_A = np.average(users.where('shuffled_groups', 'A').select('group'))\n",
    "    mean_B = np.average(users.where('shuffled_groups', 'B').select('group'))\n",
    "    # Test statistic\n",
    "    return mean_A - mean_B"
   ]
  },
  {
   "cell_type": "markdown",
   "metadata": {},
   "source": [
    "(4 points) In the question above, why do we shuffle the data? Choose all that apply.\n",
    "\n",
    "1. Under the null hypothesis, the label of being in group A or group B doesn't matter.\n",
    "2. We want to randomize treatment control to establish causation\n",
    "3. We want to simulate two groups of people whose expected happiness is identical under the null hypothesis.\n",
    "4. We want to ensure that the users in the experiment are selected randomly."
   ]
  },
  {
   "cell_type": "code",
   "execution_count": null,
   "metadata": {},
   "outputs": [],
   "source": [
    "instagram_shuffling_reasons = ...\n",
    "instagram_shuffling_reasons"
   ]
  },
  {
   "cell_type": "markdown",
   "metadata": {},
   "source": [
    "Natalia fixes the code, and simulates 10,000 values of the test statistic under the null hypothesis. She shows them in the histogram below. You should assume that the histogram shows all of the simulated values."
   ]
  },
  {
   "attachments": {
    "image.png": {
     "image/png": "[encoded data removed]"
    }
   },
   "cell_type": "markdown",
   "metadata": {},
   "source": [
    "![image.png](attachment:image.png)"
   ]
  },
  {
   "cell_type": "markdown",
   "metadata": {},
   "source": [
    "(4 points) Which of the following must be true?"
   ]
  },
  {
   "cell_type": "markdown",
   "metadata": {},
   "source": [
    "1. If the $p$-value cutoff for the test is 0.01 and the observed test statistic is 35, then we should conclude the data are more consistent with the alternative hypothesis.\n",
    "2. Seeing the number of likes on a post has no effect on user happiness.\n",
    "3. Seeing the number of likes on a post has a positive effect on user happiness.\n",
    "4. If the $p$-value cutoff for the test is 0.05 and the observed test statistic is 10,  then we should conclude the data are more consistent with the null hypothesis.\n",
    "5. Seeing the number of likes on a post has a negative effect on user happiness."
   ]
  },
  {
   "cell_type": "code",
   "execution_count": null,
   "metadata": {},
   "outputs": [],
   "source": [
    "instagram_null_simulation_choices = ..."
   ]
  },
  {
   "cell_type": "markdown",
   "metadata": {},
   "source": [
    "(4 points) Suppose Natalia now tells you the observed test statistic was 39.3. Which conclusion(s) are the data consistent with?"
   ]
  },
  {
   "cell_type": "markdown",
   "metadata": {},
   "source": [
    "1. The difference in happiness scores between group A and group B is due to chance alone\n",
    "2. The treatment has a positive association with happiness scores\n",
    "3. The treatment has a positive effect on happiness scores\n",
    "4. The treatment increased users' happiness scores by 0.2\n",
    "5. There isn't enough information to make a conclusion of any kind"
   ]
  },
  {
   "cell_type": "code",
   "execution_count": null,
   "metadata": {},
   "outputs": [],
   "source": [
    "instagram_test_conclusion_choices = ..."
   ]
  },
  {
   "cell_type": "markdown",
   "metadata": {},
   "source": [
    "For the remainder of this question, instead of testing for an increase in happines scores, Natalia would like to test whether the treatment (i.e. hiding the number of likes) changes users' `sentiment`: that is, she's only interested in seeing whether the sentiment is significantly different. She comes up with the alternative hypothesis below: provide a null hypothesis and a test statistic she could use for her test."
   ]
  },
  {
   "cell_type": "markdown",
   "metadata": {},
   "source": [
    "(3 points) Null hypothesis:"
   ]
  },
  {
   "cell_type": "markdown",
   "metadata": {},
   "source": [
    "*Your answer here*"
   ]
  },
  {
   "cell_type": "markdown",
   "metadata": {},
   "source": [
    "Natalia's alternative hypothesis is:\n",
    "\n",
    "*There is no difference in the distribution of user sentiment between treatment (hiding the number of likes) and control (showing the number of likes).*"
   ]
  },
  {
   "cell_type": "markdown",
   "metadata": {},
   "source": [
    "(3 points) What would be a valid test statistic to tell the two hypotheses above apart?"
   ]
  },
  {
   "cell_type": "markdown",
   "metadata": {},
   "source": [
    "*Your answer here*"
   ]
  },
  {
   "cell_type": "markdown",
   "metadata": {},
   "source": [
    "(3 points) Natalia and her coworker are deciding whether to roll this feature out worldwide. Her coworker wants to collect more data, and develops a sentiment analysis algorithm that analyzes the content of images and captions that people post to automatically determine their sentiment (positive, negative, or neutral).\n",
    "\n",
    "Describe, in two sentences or less, any privacy concerns that you would have around the collection of this data."
   ]
  },
  {
   "cell_type": "markdown",
   "metadata": {},
   "source": [
    "*Your answer here*"
   ]
  },
  {
   "cell_type": "markdown",
   "metadata": {},
   "source": [
    "# Question 7: The Office"
   ]
  },
  {
   "cell_type": "code",
   "execution_count": null,
   "metadata": {},
   "outputs": [],
   "source": []
  },
  {
   "cell_type": "markdown",
   "metadata": {},
   "source": [
    "The Data 8 instructors start arguing over one of their favorite TV shows, and decide to resolve their debates using data. They find data on how many words each character speaks in each episode of the show The Office in the table `office`. "
   ]
  },
  {
   "cell_type": "code",
   "execution_count": null,
   "metadata": {},
   "outputs": [],
   "source": [
    "office = Table.read_table('the_office.csv')\n",
    "office.show(3)"
   ]
  },
  {
   "cell_type": "markdown",
   "metadata": {},
   "source": [
    "The table contains the following columns:\n",
    "* **`season`**: an int, indicating which season of the show\n",
    "* **`episode`**: an int, indicating which episode within that season the data is for\n",
    "* **`overall_episode`**: an int, indicating the episode number within the entire show (for example, since the first season has 6 episodes, the first episode of the second season is the seventh episode overall)\n",
    "* **`speaker`**: a string, the name of the character\n",
    "* **`num_words`**: an int, the number of words that character spoke in that episode\n",
    "\n",
    "For example, the second row indicates that the character Dwight said 296 words in the first episode of the first season."
   ]
  },
  {
   "cell_type": "markdown",
   "metadata": {},
   "source": [
    "(6 points) In order to make graphs of how much the characters speak over the course of the show, we'll need to write a function that takes an array of character names and returns a table with one row per overall episode number, one column for the episode numbers, and a column for each character in the array, where the values are the total . For example, calling `get_character_episode_table(make_array('Jim', 'Dwight', 'Pam'))` should give you a table whose first few rows look like:"
   ]
  },
  {
   "attachments": {
    "image.png": {
     "image/png": "[encoded data removed]"
    }
   },
   "cell_type": "markdown",
   "metadata": {},
   "source": [
    "![image.png](attachment:image.png)"
   ]
  },
  {
   "cell_type": "markdown",
   "metadata": {},
   "source": [
    "(*Hint*: the predicate `are.contained_in` might be helpful.)"
   ]
  },
  {
   "cell_type": "code",
   "execution_count": null,
   "metadata": {},
   "outputs": [],
   "source": [
    "def get_character_episode_table(character_names):\n",
    "    \"\"\"\n",
    "    Takes an array of character names, and returns a table like the one shown above.\n",
    "    \"\"\"\n",
    "    return ..."
   ]
  },
  {
   "cell_type": "markdown",
   "metadata": {},
   "source": [
    "(2 points) Use the function you just wrote to make a graph comparing how much Jim and Dwight speak from episode to episode."
   ]
  },
  {
   "cell_type": "code",
   "execution_count": null,
   "metadata": {},
   "outputs": [],
   "source": [
    "# Code to create your graph goes here\n"
   ]
  },
  {
   "cell_type": "markdown",
   "metadata": {},
   "source": [
    "Ramesh and Swupnil start arguing over Season 8's popularity, and find the following data to help support their claims: "
   ]
  },
  {
   "cell_type": "code",
   "execution_count": null,
   "metadata": {},
   "outputs": [],
   "source": [
    "office_viewers = Table.read_table('office_wikipedia.csv')\n",
    "office_viewers.show(3)"
   ]
  },
  {
   "cell_type": "markdown",
   "metadata": {},
   "source": [
    "The table has the following columns:\n",
    "* **`Overall number`**: an int, indicating the episode number within the entire show (for example, since the first season has 6 episodes, the first episode of the second season is the seventh episode overall)\n",
    "* **`Name`**: a string, the episode name\n",
    "* **`Writer`**: a string, the person or people who wrote the script for that episode\n",
    "* **`Millions of viewers`**: a float, the number of viewers, in millions, who watched that episode when it aired on live TV (on NBC)."
   ]
  },
  {
   "cell_type": "markdown",
   "metadata": {},
   "source": [
    "(0 points) *Just for fun*: Which episode had the most viewers and why?"
   ]
  },
  {
   "cell_type": "markdown",
   "metadata": {},
   "source": [
    "(3 points) Using the two tables above (`office_viewers` and `office`), make a new table that has one row for each episode of the show, and three columns: **`season`**, **`overall_episode`**, and **`Millions of viewers`**."
   ]
  },
  {
   "cell_type": "code",
   "execution_count": null,
   "metadata": {},
   "outputs": [],
   "source": [
    "overall_and_season = office.group(['overall_episode', 'season']).select(0, 1)\n",
    "office_season_viewers = ...\n",
    "office_season_viewers.show(3)"
   ]
  },
  {
   "cell_type": "markdown",
   "metadata": {},
   "source": [
    "(2 points) Ramesh thinks that Season 8 is significantly less popular (measured by number of viewers) than any other season of the show. Swupnil disagrees. They decide on the following null and alternative hypotheses for their test:\n",
    "\n",
    "**Null hypothesis**:\n",
    "\n",
    "The average viewer count for Season 8 is like the average viewer count for the same number of episodes picked at random from the entire show.\n",
    "\n",
    "**Alternative hypothesis**:\n",
    "\n",
    "No, the average viewer count for Season 8 is lower.\n",
    "\n",
    "Which hypothesis supports Swupnil's argument? Assign the variable `season_8_swupnil` to either `'null'` or `'alternative'`:"
   ]
  },
  {
   "cell_type": "code",
   "execution_count": null,
   "metadata": {},
   "outputs": [],
   "source": [
    "season_8_swupnil = ..."
   ]
  },
  {
   "cell_type": "markdown",
   "metadata": {},
   "source": [
    "(3 points) Based on the null and alternative hypothesis above, describe a test statistic they could use to conduct a hypothesis test:"
   ]
  },
  {
   "cell_type": "markdown",
   "metadata": {},
   "source": [
    "*Your answer here*"
   ]
  },
  {
   "cell_type": "markdown",
   "metadata": {},
   "source": [
    "(4 points) They decide on a $p$-value cutoff of $0.01$, and carry out the test using a correct test statistic.\n",
    "\n",
    "They obtain a $p$-value of 0. Based only on this data, which must be true?\n",
    "\n",
    "1. The probability that Swupnil is right is 0.\n",
    "2. The probability that Ramesh is right is 0.\n",
    "3. The data support the alternative hypothesis.\n",
    "4. The data support the null hypothesis."
   ]
  },
  {
   "cell_type": "code",
   "execution_count": null,
   "metadata": {},
   "outputs": [],
   "source": [
    "season_8_test_conclusions = ..."
   ]
  },
  {
   "cell_type": "code",
   "execution_count": null,
   "metadata": {},
   "outputs": [],
   "source": []
  },
  {
   "cell_type": "markdown",
   "metadata": {},
   "source": [
    "# Question 8: Bread"
   ]
  },
  {
   "cell_type": "markdown",
   "metadata": {},
   "source": [
    "## Part 1: Frozen slices"
   ]
  },
  {
   "cell_type": "markdown",
   "metadata": {},
   "source": [
    "Ilin buys too much bread, so she decides to slice it and put it in her freezer. She has three loaves of bread: one rye, one sourdough, and one multigrain. She slices each loaf: **the rye bread has 8 slices, the sourdough bread has 5 slices, and the multigrain bread has 12 slices**. In each loaf, two of the slices are \"heels\" (the slice at each end). She puts all the slices into a giant bag and mixes them up. Each day, she pulls out one slice at random and eats it."
   ]
  },
  {
   "cell_type": "markdown",
   "metadata": {},
   "source": [
    "For the first four parts of this question, provide the specified probability before she starts eating any of the bread."
   ]
  },
  {
   "cell_type": "markdown",
   "metadata": {},
   "source": [
    "(2 points) What is the probability that her first slice is rye?"
   ]
  },
  {
   "cell_type": "code",
   "execution_count": null,
   "metadata": {},
   "outputs": [],
   "source": []
  },
  {
   "cell_type": "markdown",
   "metadata": {},
   "source": [
    "(2 points) What is the probability that in her first two slices, she doesn't get any sourdough?"
   ]
  },
  {
   "cell_type": "code",
   "execution_count": null,
   "metadata": {},
   "outputs": [],
   "source": []
  },
  {
   "cell_type": "markdown",
   "metadata": {},
   "source": [
    "(2 points) What is the probability that the first three slices are all heels?"
   ]
  },
  {
   "cell_type": "code",
   "execution_count": null,
   "metadata": {},
   "outputs": [],
   "source": []
  },
  {
   "cell_type": "markdown",
   "metadata": {},
   "source": [
    "(3 points) The first slice she pulls out is a heel. What is the probability that it is sourdough?"
   ]
  },
  {
   "cell_type": "code",
   "execution_count": null,
   "metadata": {},
   "outputs": [],
   "source": []
  },
  {
   "cell_type": "markdown",
   "metadata": {},
   "source": [
    "## Part 2: Quality control"
   ]
  },
  {
   "cell_type": "markdown",
   "metadata": {},
   "source": [
    "Jin is in charge of quality control at a large bakery that makes tens of thousands loaves of bread each day. Each loaf is advertised as weighing 500 grams, but the exact weight varies a little bit from loaf to loaf.\n",
    "\n",
    "Jin has had complaints from customers that their bread weighed less than 500 grams. He speaks with the bakers, who assure him that the average loaf weighs 500 grams, and that the standard deviation of the loaf weights is 5 grams. They show him the following distribution of weights that the loaves are supposed to follow:"
   ]
  },
  {
   "attachments": {
    "image.png": {
     "image/png": "[encoded data removed]"
    }
   },
   "cell_type": "markdown",
   "metadata": {},
   "source": [
    "![image.png](attachment:image.png)"
   ]
  },
  {
   "cell_type": "markdown",
   "metadata": {},
   "source": [
    "(3 points) To verify this, he plans to hire 1000 auditors to come into the bakery, and each one will randomly sample 100 loaves and weigh them. Each auditor will tell Jin the average weight of those 100 loaves.\n",
    "\n",
    "Assuming the bakers are correct, about how many of the 1000 auditors will find an average weight below 499 grams? Your response should be a number between 0 and 1000."
   ]
  },
  {
   "cell_type": "code",
   "execution_count": null,
   "metadata": {},
   "outputs": [],
   "source": []
  },
  {
   "cell_type": "markdown",
   "metadata": {},
   "source": [
    "(3 points) When Jin discusses this idea with his peers, they tell him it's much too expensive. Instead, they suggest hiring one auditor, and asking the auditor to collect a larger random sample of 225 loaves.\n",
    "\n",
    "Assuming the bakers are correct, approximately what is this probability that the auditor will find an average weight below 499 grams? Your response should be a number between 0 and 1."
   ]
  },
  {
   "cell_type": "code",
   "execution_count": null,
   "metadata": {},
   "outputs": [],
   "source": []
  }
 ],
 "metadata": {
  "kernelspec": {
   "display_name": "Python 3",
   "language": "python",
   "name": "python3"
  },
  "language_info": {
   "codemirror_mode": {
    "name": "ipython",
    "version": 3
   },
   "file_extension": ".py",
   "mimetype": "text/x-python",
   "name": "python",
   "nbconvert_exporter": "python",
   "pygments_lexer": "ipython3",
   "version": "3.7.1"
  }
 },
 "nbformat": 4,
 "nbformat_minor": 2
}
